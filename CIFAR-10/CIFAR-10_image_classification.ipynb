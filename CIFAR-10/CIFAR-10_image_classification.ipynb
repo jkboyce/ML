{
 "cells": [
  {
   "cell_type": "markdown",
   "metadata": {
    "collapsed": true
   },
   "source": [
    "# Image Classification\n",
    "In this project, you'll classify images from the [CIFAR-10 dataset](https://www.cs.toronto.edu/~kriz/cifar.html).  The dataset consists of airplanes, dogs, cats, and other objects. You'll preprocess the images, then train a convolutional neural network on all the samples. The images need to be normalized and the labels need to be one-hot encoded.  You'll get to apply what you learned and build a convolutional, max pooling, dropout, and fully connected layers.  At the end, you'll get to see your neural network's predictions on the sample images.\n",
    "## Get the Data\n",
    "Run the following cell to download the [CIFAR-10 dataset for python](https://www.cs.toronto.edu/~kriz/cifar-10-python.tar.gz)."
   ]
  },
  {
   "cell_type": "code",
   "execution_count": 1,
   "metadata": {},
   "outputs": [
    {
     "name": "stderr",
     "output_type": "stream",
     "text": [
      "CIFAR-10 Dataset: 171MB [04:10, 680kB/s]                                       \n"
     ]
    },
    {
     "name": "stdout",
     "output_type": "stream",
     "text": [
      "All files found!\n"
     ]
    }
   ],
   "source": [
    "\"\"\"\n",
    "DON'T MODIFY ANYTHING IN THIS CELL THAT IS BELOW THIS LINE\n",
    "\"\"\"\n",
    "from urllib.request import urlretrieve\n",
    "from os.path import isfile, isdir\n",
    "from tqdm import tqdm\n",
    "import problem_unittests as tests\n",
    "import tarfile\n",
    "\n",
    "cifar10_dataset_folder_path = 'cifar-10-batches-py'\n",
    "\n",
    "# Use Floyd's cifar-10 dataset if present\n",
    "floyd_cifar10_location = '/input/cifar-10/python.tar.gz'\n",
    "if isfile(floyd_cifar10_location):\n",
    "    tar_gz_path = floyd_cifar10_location\n",
    "else:\n",
    "    tar_gz_path = 'cifar-10-python.tar.gz'\n",
    "\n",
    "class DLProgress(tqdm):\n",
    "    last_block = 0\n",
    "\n",
    "    def hook(self, block_num=1, block_size=1, total_size=None):\n",
    "        self.total = total_size\n",
    "        self.update((block_num - self.last_block) * block_size)\n",
    "        self.last_block = block_num\n",
    "\n",
    "if not isfile(tar_gz_path):\n",
    "    with DLProgress(unit='B', unit_scale=True, miniters=1, desc='CIFAR-10 Dataset') as pbar:\n",
    "        urlretrieve(\n",
    "            'https://www.cs.toronto.edu/~kriz/cifar-10-python.tar.gz',\n",
    "            tar_gz_path,\n",
    "            pbar.hook)\n",
    "\n",
    "if not isdir(cifar10_dataset_folder_path):\n",
    "    with tarfile.open(tar_gz_path) as tar:\n",
    "        tar.extractall()\n",
    "        tar.close()\n",
    "\n",
    "\n",
    "tests.test_folder_path(cifar10_dataset_folder_path)"
   ]
  },
  {
   "cell_type": "markdown",
   "metadata": {},
   "source": [
    "## Explore the Data\n",
    "The dataset is broken into batches to prevent your machine from running out of memory.  The CIFAR-10 dataset consists of 5 batches, named `data_batch_1`, `data_batch_2`, etc.. Each batch contains the labels and images that are one of the following:\n",
    "* airplane\n",
    "* automobile\n",
    "* bird\n",
    "* cat\n",
    "* deer\n",
    "* dog\n",
    "* frog\n",
    "* horse\n",
    "* ship\n",
    "* truck\n",
    "\n",
    "Understanding a dataset is part of making predictions on the data.  Play around with the code cell below by changing the `batch_id` and `sample_id`. The `batch_id` is the id for a batch (1-5). The `sample_id` is the id for a image and label pair in the batch.\n",
    "\n",
    "Ask yourself \"What are all possible labels?\", \"What is the range of values for the image data?\", \"Are the labels in order or random?\".  Answers to questions like these will help you preprocess the data and end up with better predictions."
   ]
  },
  {
   "cell_type": "code",
   "execution_count": 2,
   "metadata": {},
   "outputs": [
    {
     "name": "stdout",
     "output_type": "stream",
     "text": [
      "\n",
      "Stats of batch 1:\n",
      "Samples: 10000\n",
      "Label Counts: {0: 1005, 1: 974, 2: 1032, 3: 1016, 4: 999, 5: 937, 6: 1030, 7: 1001, 8: 1025, 9: 981}\n",
      "First 20 Labels: [6, 9, 9, 4, 1, 1, 2, 7, 8, 3, 4, 7, 7, 2, 9, 9, 9, 3, 2, 6]\n",
      "\n",
      "Example of Image 27:\n",
      "Image - Min Value: 0 Max Value: 222\n",
      "Image - Shape: (32, 32, 3)\n",
      "Label - Label Id: 5 Name: dog\n"
     ]
    },
    {
     "data": {
      "image/png": "[encoded data removed]",
      "text/plain": [
       "<Figure size 432x288 with 1 Axes>"
      ]
     },
     "metadata": {
      "image/png": {
       "height": 248,
       "width": 251
      },
      "needs_background": "light"
     },
     "output_type": "display_data"
    }
   ],
   "source": [
    "%matplotlib inline\n",
    "%config InlineBackend.figure_format = 'retina'\n",
    "\n",
    "import helper\n",
    "import numpy as np\n",
    "\n",
    "# Explore the dataset\n",
    "batch_id = 1\n",
    "sample_id = 27\n",
    "helper.display_stats(cifar10_dataset_folder_path, batch_id, sample_id)"
   ]
  },
  {
   "cell_type": "markdown",
   "metadata": {},
   "source": [
    "## Implement Preprocess Functions\n",
    "### Normalize\n",
    "In the cell below, implement the `normalize` function to take in image data, `x`, and return it as a normalized Numpy array. The values should be in the range of 0 to 1, inclusive.  The return object should be the same shape as `x`."
   ]
  },
  {
   "cell_type": "code",
   "execution_count": 3,
   "metadata": {},
   "outputs": [
    {
     "name": "stdout",
     "output_type": "stream",
     "text": [
      "Tests Passed\n"
     ]
    }
   ],
   "source": [
    "def normalize(x):\n",
    "    \"\"\"\n",
    "    Normalize a list of sample image data in the range of 0 to 1\n",
    "    : x: List of image data.  The image shape is (32, 32, 3)\n",
    "    : return: Numpy array of normalize data\n",
    "    \"\"\"\n",
    "    # TODO: Implement Function\n",
    "    return x/255\n",
    "\n",
    "\n",
    "\"\"\"\n",
    "DON'T MODIFY ANYTHING IN THIS CELL THAT IS BELOW THIS LINE\n",
    "\"\"\"\n",
    "tests.test_normalize(normalize)"
   ]
  },
  {
   "cell_type": "markdown",
   "metadata": {},
   "source": [
    "### One-hot encode\n",
    "Just like the previous code cell, you'll be implementing a function for preprocessing.  This time, you'll implement the `one_hot_encode` function. The input, `x`, are a list of labels.  Implement the function to return the list of labels as One-Hot encoded Numpy array.  The possible values for labels are 0 to 9. The one-hot encoding function should return the same encoding for each value between each call to `one_hot_encode`.  Make sure to save the map of encodings outside the function.\n",
    "\n",
    "Hint: Don't reinvent the wheel."
   ]
  },
  {
   "cell_type": "code",
   "execution_count": 4,
   "metadata": {},
   "outputs": [
    {
     "name": "stdout",
     "output_type": "stream",
     "text": [
      "Tests Passed\n"
     ]
    }
   ],
   "source": [
    "def one_hot_encode(x):\n",
    "    \"\"\"\n",
    "    One hot encode a list of sample labels. Return a one-hot encoded vector for each label.\n",
    "    : x: List of sample Labels\n",
    "    : return: Numpy array of one-hot encoded labels\n",
    "    \"\"\"\n",
    "    # TODO: Implement Function\n",
    "    res = np.zeros((len(x), 10))\n",
    "    for index, label in enumerate(x):\n",
    "        res[index, label] = 1.0\n",
    "    return res\n",
    "\n",
    "\n",
    "\"\"\"\n",
    "DON'T MODIFY ANYTHING IN THIS CELL THAT IS BELOW THIS LINE\n",
    "\"\"\"\n",
    "tests.test_one_hot_encode(one_hot_encode)"
   ]
  },
  {
   "cell_type": "markdown",
   "metadata": {},
   "source": [
    "### Randomize Data\n",
    "As you saw from exploring the data above, the order of the samples are randomized.  It doesn't hurt to randomize it again, but you don't need to for this dataset."
   ]
  },
  {
   "cell_type": "markdown",
   "metadata": {},
   "source": [
    "## Preprocess all the data and save it\n",
    "Running the code cell below will preprocess all the CIFAR-10 data and save it to file. The code below also uses 10% of the training data for validation."
   ]
  },
  {
   "cell_type": "code",
   "execution_count": 5,
   "metadata": {},
   "outputs": [],
   "source": [
    "\"\"\"\n",
    "DON'T MODIFY ANYTHING IN THIS CELL\n",
    "\"\"\"\n",
    "# Preprocess Training, Validation, and Testing Data\n",
    "helper.preprocess_and_save_data(cifar10_dataset_folder_path, normalize, one_hot_encode)"
   ]
  },
  {
   "cell_type": "markdown",
   "metadata": {},
   "source": [
    "# Check Point\n",
    "This is your first checkpoint.  If you ever decide to come back to this notebook or have to restart the notebook, you can start from here.  The preprocessed data has been saved to disk."
   ]
  },
  {
   "cell_type": "code",
   "execution_count": 6,
   "metadata": {},
   "outputs": [],
   "source": [
    "\"\"\"\n",
    "DON'T MODIFY ANYTHING IN THIS CELL\n",
    "\"\"\"\n",
    "import pickle\n",
    "import problem_unittests as tests\n",
    "import helper\n",
    "\n",
    "# Load the Preprocessed Validation data\n",
    "valid_features, valid_labels = pickle.load(open('preprocess_validation.p', mode='rb'))"
   ]
  },
  {
   "cell_type": "markdown",
   "metadata": {},
   "source": [
    "## Build the network\n",
    "For the neural network, you'll build each layer into a function.  Most of the code you've seen has been outside of functions. To test your code more thoroughly, we require that you put each layer in a function.  This allows us to give you better feedback and test for simple mistakes using our unittests before you submit your project.\n",
    "\n",
    ">**Note:** If you're finding it hard to dedicate enough time for this course each week, we've provided a small shortcut to this part of the project. In the next couple of problems, you'll have the option to use classes from the [TensorFlow Layers](https://www.tensorflow.org/api_docs/python/tf/layers) or [TensorFlow Layers (contrib)](https://www.tensorflow.org/api_guides/python/contrib.layers) packages to build each layer, except the layers you build in the \"Convolutional and Max Pooling Layer\" section.  TF Layers is similar to Keras's and TFLearn's abstraction to layers, so it's easy to pickup.\n",
    "\n",
    ">However, if you would like to get the most out of this course, try to solve all the problems _without_ using anything from the TF Layers packages. You **can** still use classes from other packages that happen to have the same name as ones you find in TF Layers! For example, instead of using the TF Layers version of the `conv2d` class, [tf.layers.conv2d](https://www.tensorflow.org/api_docs/python/tf/layers/conv2d), you would want to use the TF Neural Network version of `conv2d`, [tf.nn.conv2d](https://www.tensorflow.org/api_docs/python/tf/nn/conv2d). \n",
    "\n",
    "Let's begin!\n",
    "\n",
    "### Input\n",
    "The neural network needs to read the image data, one-hot encoded labels, and dropout keep probability. Implement the following functions\n",
    "* Implement `neural_net_image_input`\n",
    " * Return a [TF Placeholder](https://www.tensorflow.org/api_docs/python/tf/placeholder)\n",
    " * Set the shape using `image_shape` with batch size set to `None`.\n",
    " * Name the TensorFlow placeholder \"x\" using the TensorFlow `name` parameter in the [TF Placeholder](https://www.tensorflow.org/api_docs/python/tf/placeholder).\n",
    "* Implement `neural_net_label_input`\n",
    " * Return a [TF Placeholder](https://www.tensorflow.org/api_docs/python/tf/placeholder)\n",
    " * Set the shape using `n_classes` with batch size set to `None`.\n",
    " * Name the TensorFlow placeholder \"y\" using the TensorFlow `name` parameter in the [TF Placeholder](https://www.tensorflow.org/api_docs/python/tf/placeholder).\n",
    "* Implement `neural_net_keep_prob_input`\n",
    " * Return a [TF Placeholder](https://www.tensorflow.org/api_docs/python/tf/placeholder) for dropout keep probability.\n",
    " * Name the TensorFlow placeholder \"keep_prob\" using the TensorFlow `name` parameter in the [TF Placeholder](https://www.tensorflow.org/api_docs/python/tf/placeholder).\n",
    "\n",
    "These names will be used at the end of the project to load your saved model.\n",
    "\n",
    "Note: `None` for shapes in TensorFlow allow for a dynamic size."
   ]
  },
  {
   "cell_type": "code",
   "execution_count": 7,
   "metadata": {},
   "outputs": [
    {
     "name": "stdout",
     "output_type": "stream",
     "text": [
      "Image Input Tests Passed.\n",
      "Label Input Tests Passed.\n",
      "Keep Prob Tests Passed.\n"
     ]
    }
   ],
   "source": [
    "import tensorflow as tf\n",
    "\n",
    "def neural_net_image_input(image_shape):\n",
    "    \"\"\"\n",
    "    Return a Tensor for a batch of image input\n",
    "    : image_shape: Shape of the images\n",
    "    : return: Tensor for image input.\n",
    "    \"\"\"\n",
    "    # TODO: Implement Function\n",
    "    return tf.placeholder(dtype=tf.float32, shape=(None,)+image_shape, name='x')\n",
    "\n",
    "\n",
    "def neural_net_label_input(n_classes):\n",
    "    \"\"\"\n",
    "    Return a Tensor for a batch of label input\n",
    "    : n_classes: Number of classes\n",
    "    : return: Tensor for label input.\n",
    "    \"\"\"\n",
    "    # TODO: Implement Function\n",
    "    return tf.placeholder(dtype=tf.float32, shape=(None,n_classes), name='y')\n",
    "\n",
    "\n",
    "def neural_net_keep_prob_input():\n",
    "    \"\"\"\n",
    "    Return a Tensor for keep probability\n",
    "    : return: Tensor for keep probability.\n",
    "    \"\"\"\n",
    "    # TODO: Implement Function\n",
    "    return tf.placeholder(dtype=tf.float32, name='keep_prob')\n",
    "\n",
    "\n",
    "\"\"\"\n",
    "DON'T MODIFY ANYTHING IN THIS CELL THAT IS BELOW THIS LINE\n",
    "\"\"\"\n",
    "tf.reset_default_graph()\n",
    "tests.test_nn_image_inputs(neural_net_image_input)\n",
    "tests.test_nn_label_inputs(neural_net_label_input)\n",
    "tests.test_nn_keep_prob_inputs(neural_net_keep_prob_input)"
   ]
  },
  {
   "cell_type": "markdown",
   "metadata": {},
   "source": [
    "### Convolution and Max Pooling Layer\n",
    "Convolution layers have a lot of success with images. For this code cell, you should implement the function `conv2d_maxpool` to apply convolution then max pooling:\n",
    "* Create the weight and bias using `conv_ksize`, `conv_num_outputs` and the shape of `x_tensor`.\n",
    "* Apply a convolution to `x_tensor` using weight and `conv_strides`.\n",
    " * We recommend you use same padding, but you're welcome to use any padding.\n",
    "* Add bias\n",
    "* Add a nonlinear activation to the convolution.\n",
    "* Apply Max Pooling using `pool_ksize` and `pool_strides`.\n",
    " * We recommend you use same padding, but you're welcome to use any padding.\n",
    "\n",
    "**Note:** You **can't** use [TensorFlow Layers](https://www.tensorflow.org/api_docs/python/tf/layers) or [TensorFlow Layers (contrib)](https://www.tensorflow.org/api_guides/python/contrib.layers) for **this** layer, but you can still use TensorFlow's [Neural Network](https://www.tensorflow.org/api_docs/python/tf/nn) package. You may still use the shortcut option for all the **other** layers."
   ]
  },
  {
   "cell_type": "code",
   "execution_count": 8,
   "metadata": {},
   "outputs": [
    {
     "name": "stdout",
     "output_type": "stream",
     "text": [
      "Tests Passed\n"
     ]
    }
   ],
   "source": [
    "import math\n",
    "\n",
    "def conv2d_maxpool(x_tensor, conv_num_outputs, conv_ksize, conv_strides, pool_ksize, pool_strides):\n",
    "    \"\"\"\n",
    "    Apply convolution then max pooling to x_tensor\n",
    "    :param x_tensor: TensorFlow Tensor\n",
    "    :param conv_num_outputs: Number of outputs for the convolutional layer\n",
    "    :param conv_ksize: kernal size 2-D Tuple for the convolutional layer\n",
    "    :param conv_strides: Stride 2-D Tuple for convolution\n",
    "    :param pool_ksize: kernal size 2-D Tuple for pool\n",
    "    :param pool_strides: Stride 2-D Tuple for pool\n",
    "    : return: A tensor that represents convolution and max pooling of x_tensor\n",
    "    \"\"\"\n",
    "    # TODO: Implement Function\n",
    "    conv_weights_shape = x_tensor.shape.as_list()[1:]\n",
    "    conv_weights_shape[0] = conv_ksize[0]\n",
    "    conv_weights_shape[1] = conv_ksize[1]\n",
    "    conv_weights_shape.append(conv_num_outputs)\n",
    "\n",
    "    conv_W = tf.Variable(tf.truncated_normal(conv_weights_shape,\n",
    "                         stddev=math.sqrt(2.0/(conv_weights_shape[0]*conv_weights_shape[1]*conv_weights_shape[2]))))\n",
    "    conv_bias = tf.Variable(tf.zeros([conv_num_outputs]))\n",
    "    \n",
    "    x = tf.nn.conv2d(x_tensor, conv_W, strides=[1, conv_strides[0], conv_strides[1], 1], padding='SAME')\n",
    "    x = tf.nn.bias_add(x, conv_bias)\n",
    "    \n",
    "    x = tf.nn.relu(x)\n",
    "    \n",
    "    x = tf.nn.max_pool(x, ksize=[1, pool_ksize[0], pool_ksize[1], 1], strides=[1, pool_strides[0], pool_strides[1], 1], padding='SAME')\n",
    "\n",
    "    return x \n",
    "\n",
    "\n",
    "\"\"\"\n",
    "DON'T MODIFY ANYTHING IN THIS CELL THAT IS BELOW THIS LINE\n",
    "\"\"\"\n",
    "tests.test_con_pool(conv2d_maxpool)"
   ]
  },
  {
   "cell_type": "markdown",
   "metadata": {},
   "source": [
    "### Flatten Layer\n",
    "Implement the `flatten` function to change the dimension of `x_tensor` from a 4-D tensor to a 2-D tensor.  The output should be the shape (*Batch Size*, *Flattened Image Size*). Shortcut option: you can use classes from the [TensorFlow Layers](https://www.tensorflow.org/api_docs/python/tf/layers) or [TensorFlow Layers (contrib)](https://www.tensorflow.org/api_guides/python/contrib.layers) packages for this layer. For more of a challenge, only use other TensorFlow packages."
   ]
  },
  {
   "cell_type": "code",
   "execution_count": 9,
   "metadata": {},
   "outputs": [
    {
     "name": "stdout",
     "output_type": "stream",
     "text": [
      "Tests Passed\n"
     ]
    }
   ],
   "source": [
    "def flatten(x_tensor):\n",
    "    \"\"\"\n",
    "    Flatten x_tensor to (Batch Size, Flattened Image Size)\n",
    "    : x_tensor: A tensor of size (Batch Size, ...), where ... are the image dimensions.\n",
    "    : return: A tensor of size (Batch Size, Flattened Image Size).\n",
    "    \"\"\"\n",
    "    # TODO: Implement Function\n",
    "    x_shape = x_tensor.shape.as_list()[1:]\n",
    "    return tf.reshape(x_tensor, [-1,x_shape[0]*x_shape[1]*x_shape[2]])\n",
    "\n",
    "\n",
    "\"\"\"\n",
    "DON'T MODIFY ANYTHING IN THIS CELL THAT IS BELOW THIS LINE\n",
    "\"\"\"\n",
    "tests.test_flatten(flatten)"
   ]
  },
  {
   "cell_type": "markdown",
   "metadata": {},
   "source": [
    "### Fully-Connected Layer\n",
    "Implement the `fully_conn` function to apply a fully connected layer to `x_tensor` with the shape (*Batch Size*, *num_outputs*). Shortcut option: you can use classes from the [TensorFlow Layers](https://www.tensorflow.org/api_docs/python/tf/layers) or [TensorFlow Layers (contrib)](https://www.tensorflow.org/api_guides/python/contrib.layers) packages for this layer. For more of a challenge, only use other TensorFlow packages."
   ]
  },
  {
   "cell_type": "code",
   "execution_count": 10,
   "metadata": {},
   "outputs": [
    {
     "name": "stdout",
     "output_type": "stream",
     "text": [
      "Tests Passed\n"
     ]
    }
   ],
   "source": [
    "def fully_conn(x_tensor, num_outputs):\n",
    "    \"\"\"\n",
    "    Apply a fully connected layer to x_tensor using weight and bias\n",
    "    : x_tensor: A 2-D tensor where the first dimension is batch size.\n",
    "    : num_outputs: The number of output that the new tensor should be.\n",
    "    : return: A 2-D tensor where the second dimension is num_outputs.\n",
    "    \"\"\"\n",
    "    # TODO: Implement Function\n",
    "    num_inputs = x_tensor.shape.as_list()[1]\n",
    "    \n",
    "    W = tf.Variable(tf.truncated_normal([num_inputs, num_outputs], stddev=math.sqrt(2.0/num_inputs)))\n",
    "    bias = tf.Variable(tf.zeros([num_outputs]))\n",
    "    \n",
    "    return tf.nn.relu(tf.add(tf.matmul(x_tensor, W), bias))\n",
    "\n",
    "\n",
    "\"\"\"\n",
    "DON'T MODIFY ANYTHING IN THIS CELL THAT IS BELOW THIS LINE\n",
    "\"\"\"\n",
    "tests.test_fully_conn(fully_conn)"
   ]
  },
  {
   "cell_type": "markdown",
   "metadata": {},
   "source": [
    "### Output Layer\n",
    "Implement the `output` function to apply a fully connected layer to `x_tensor` with the shape (*Batch Size*, *num_outputs*). Shortcut option: you can use classes from the [TensorFlow Layers](https://www.tensorflow.org/api_docs/python/tf/layers) or [TensorFlow Layers (contrib)](https://www.tensorflow.org/api_guides/python/contrib.layers) packages for this layer. For more of a challenge, only use other TensorFlow packages.\n",
    "\n",
    "**Note:** Activation, softmax, or cross entropy should **not** be applied to this."
   ]
  },
  {
   "cell_type": "code",
   "execution_count": 11,
   "metadata": {},
   "outputs": [
    {
     "name": "stdout",
     "output_type": "stream",
     "text": [
      "Tests Passed\n"
     ]
    }
   ],
   "source": [
    "def output(x_tensor, num_outputs):\n",
    "    \"\"\"\n",
    "    Apply a output layer to x_tensor using weight and bias\n",
    "    : x_tensor: A 2-D tensor where the first dimension is batch size.\n",
    "    : num_outputs: The number of output that the new tensor should be.\n",
    "    : return: A 2-D tensor where the second dimension is num_outputs.\n",
    "    \"\"\"\n",
    "    # TODO: Implement Function\n",
    "    num_inputs = x_tensor.shape.as_list()[1]\n",
    "    \n",
    "    W = tf.Variable(tf.truncated_normal([num_inputs, num_outputs], stddev=math.sqrt(2.0/num_inputs)))\n",
    "    bias = tf.Variable(tf.zeros([num_outputs]))\n",
    "    \n",
    "    return tf.add(tf.matmul(x_tensor, W), bias)\n",
    "\n",
    "\n",
    "\"\"\"\n",
    "DON'T MODIFY ANYTHING IN THIS CELL THAT IS BELOW THIS LINE\n",
    "\"\"\"\n",
    "tests.test_output(output)"
   ]
  },
  {
   "cell_type": "markdown",
   "metadata": {},
   "source": [
    "### Create Convolutional Model\n",
    "Implement the function `conv_net` to create a convolutional neural network model. The function takes in a batch of images, `x`, and outputs logits.  Use the layers you created above to create this model:\n",
    "\n",
    "* Apply 1, 2, or 3 Convolution and Max Pool layers\n",
    "* Apply a Flatten Layer\n",
    "* Apply 1, 2, or 3 Fully Connected Layers\n",
    "* Apply an Output Layer\n",
    "* Return the output\n",
    "* Apply [TensorFlow's Dropout](https://www.tensorflow.org/api_docs/python/tf/nn/dropout) to one or more layers in the model using `keep_prob`. "
   ]
  },
  {
   "cell_type": "markdown",
   "metadata": {},
   "source": [
    "Network Architecture\n",
    "---------------\n",
    "\n",
    "I made the following design choices for the network architecture. This is loosely based on reading I've done on convolutional networks for image recognition.\n",
    "\n",
    "Network input: 32x32x3 image data, normalized to [0.0, 1.0]\n",
    "\n",
    "- convolutional layer 1:<br/>\n",
    "   kernel 5x5x3, outputs 20, stride (1,1)<br/>\n",
    "   output 32x32x20, # parameters = (5x5x3)x20 + 20 = 1520<br/>\n",
    "\n",
    "- max pooling layer 1:<br/>\n",
    "   kernel 2x2, stride (2,2)<br/>\n",
    "   output 16x16x20<br/>\n",
    "\n",
    "- convolutional layer 2:<br/>\n",
    "   kernel 5x5x20, outputs 40, stride (1,1)<br/>\n",
    "   output 16x16x40, # parameters = (5x5x20)x40 + 40 = 20040<br/>\n",
    "\n",
    "- max pooling layer 2:<br/>\n",
    "   kernel 2x2, stride (2,2)<br/>\n",
    "   output 8x8x40<br/>\n",
    "\n",
    "- convolutional layer 3:<br/>\n",
    "   kernel 3x3x40, outputs 80, stride (1,1)<br/>\n",
    "   output 8x8x80, # parameters = (3x3x40)x80 + 80 = 28880<br/>\n",
    "\n",
    "- max pooling layer 3:<br/>\n",
    "   kernel 2x2, stride (2,2)<br/>\n",
    "   output 4x4x80<br/>\n",
    "\n",
    "- flatten layer:<br/>\n",
    "   output 4x4x80 = 1280<br/>\n",
    "\n",
    "- fully connected layer 1:<br/>\n",
    "   hidden units 250<br/>\n",
    "   output 250, # parameters = 1280x250 + 250 = 320250<br/>\n",
    "\n",
    "- fully connected layer 2:<br/>\n",
    "   hidden units 100<br/>\n",
    "   output 100, # parameters = 250x100 + 100 = 25100<br/>\n",
    "\n",
    "- output layer:<br/>\n",
    "   output 10, # parameters = 100x10 + 10 = 1010<br/>\n",
    "\n",
    "Total parameters in network = 396800"
   ]
  },
  {
   "cell_type": "code",
   "execution_count": 12,
   "metadata": {},
   "outputs": [
    {
     "name": "stdout",
     "output_type": "stream",
     "text": [
      "Neural Network Built!\n"
     ]
    }
   ],
   "source": [
    "def conv_net(x, keep_prob):\n",
    "    \"\"\"\n",
    "    Create a convolutional neural network model\n",
    "    : x: Placeholder tensor that holds image data.\n",
    "    : keep_prob: Placeholder tensor that hold dropout keep probability.\n",
    "    : return: Tensor that represents logits\n",
    "    \"\"\"\n",
    "    \n",
    "    # see notes above\n",
    "    \n",
    "    # TODO: Apply 1, 2, or 3 Convolution and Max Pool layers\n",
    "    #    Play around with different number of outputs, kernel size and stride\n",
    "    # Function Definition from Above:\n",
    "    x = conv2d_maxpool(x, conv_num_outputs=20, conv_ksize=(5,5),\n",
    "                       conv_strides=(1,1), pool_ksize=(2,2), pool_strides=(2,2))\n",
    "    x = conv2d_maxpool(x, conv_num_outputs=40, conv_ksize=(5,5),\n",
    "                       conv_strides=(1,1), pool_ksize=(2,2), pool_strides=(2,2))\n",
    "    x = conv2d_maxpool(x, conv_num_outputs=80, conv_ksize=(3,3),\n",
    "                       conv_strides=(1,1), pool_ksize=(2,2), pool_strides=(2,2))\n",
    "    \n",
    "    # TODO: Apply a Flatten Layer\n",
    "    # Function Definition from Above:\n",
    "    x = flatten(x)\n",
    "    \n",
    "    # TODO: Apply 1, 2, or 3 Fully Connected Layers\n",
    "    #    Play around with different number of outputs\n",
    "    # Function Definition from Above:\n",
    "    x = fully_conn(x, 250)\n",
    "    x = tf.nn.dropout(x, keep_prob)\n",
    "    x = fully_conn(x, 100)\n",
    "    x = tf.nn.dropout(x, keep_prob)\n",
    "    \n",
    "    # TODO: Apply an Output Layer\n",
    "    #    Set this to the number of classes\n",
    "    # Function Definition from Above:\n",
    "    x = output(x, 10)\n",
    "    \n",
    "    # TODO: return output\n",
    "    return x\n",
    "\n",
    "\n",
    "\"\"\"\n",
    "DON'T MODIFY ANYTHING IN THIS CELL THAT IS BELOW THIS LINE\n",
    "\"\"\"\n",
    "\n",
    "##############################\n",
    "## Build the Neural Network ##\n",
    "##############################\n",
    "\n",
    "# Remove previous weights, bias, inputs, etc..\n",
    "tf.reset_default_graph()\n",
    "\n",
    "# Inputs\n",
    "x = neural_net_image_input((32, 32, 3))\n",
    "y = neural_net_label_input(10)\n",
    "keep_prob = neural_net_keep_prob_input()\n",
    "\n",
    "# Model\n",
    "logits = conv_net(x, keep_prob)\n",
    "\n",
    "# Name logits Tensor, so that is can be loaded from disk after training\n",
    "logits = tf.identity(logits, name='logits')\n",
    "\n",
    "# Loss and Optimizer\n",
    "cost = tf.reduce_mean(tf.nn.softmax_cross_entropy_with_logits_v2(logits=logits, labels=y))\n",
    "optimizer = tf.train.AdamOptimizer().minimize(cost)\n",
    "\n",
    "# Accuracy\n",
    "correct_pred = tf.equal(tf.argmax(logits, 1), tf.argmax(y, 1))\n",
    "accuracy = tf.reduce_mean(tf.cast(correct_pred, tf.float32), name='accuracy')\n",
    "\n",
    "tests.test_conv_net(conv_net)"
   ]
  },
  {
   "cell_type": "markdown",
   "metadata": {},
   "source": [
    "## Train the Neural Network\n",
    "### Single Optimization\n",
    "Implement the function `train_neural_network` to do a single optimization.  The optimization should use `optimizer` to optimize in `session` with a `feed_dict` of the following:\n",
    "* `x` for image input\n",
    "* `y` for labels\n",
    "* `keep_prob` for keep probability for dropout\n",
    "\n",
    "This function will be called for each batch, so `tf.global_variables_initializer()` has already been called.\n",
    "\n",
    "Note: Nothing needs to be returned. This function is only optimizing the neural network."
   ]
  },
  {
   "cell_type": "code",
   "execution_count": 13,
   "metadata": {},
   "outputs": [
    {
     "name": "stdout",
     "output_type": "stream",
     "text": [
      "Tests Passed\n"
     ]
    }
   ],
   "source": [
    "def train_neural_network(session, optimizer, keep_probability, feature_batch, label_batch):\n",
    "    \"\"\"\n",
    "    Optimize the session on a batch of images and labels\n",
    "    : session: Current TensorFlow session\n",
    "    : optimizer: TensorFlow optimizer function\n",
    "    : keep_probability: keep probability\n",
    "    : feature_batch: Batch of Numpy image data\n",
    "    : label_batch: Batch of Numpy label data\n",
    "    \"\"\"\n",
    "    # TODO: Implement Function\n",
    "    session.run(optimizer, feed_dict={x:feature_batch, y:label_batch, keep_prob:keep_probability})\n",
    "\n",
    "\n",
    "\"\"\"\n",
    "DON'T MODIFY ANYTHING IN THIS CELL THAT IS BELOW THIS LINE\n",
    "\"\"\"\n",
    "tests.test_train_nn(train_neural_network)"
   ]
  },
  {
   "cell_type": "markdown",
   "metadata": {},
   "source": [
    "### Show Stats\n",
    "Implement the function `print_stats` to print loss and validation accuracy.  Use the global variables `valid_features` and `valid_labels` to calculate validation accuracy.  Use a keep probability of `1.0` to calculate the loss and validation accuracy."
   ]
  },
  {
   "cell_type": "code",
   "execution_count": 14,
   "metadata": {},
   "outputs": [],
   "source": [
    "def print_stats(session, feature_batch, label_batch, cost, accuracy):\n",
    "    \"\"\"\n",
    "    Print information about loss and validation accuracy\n",
    "    : session: Current TensorFlow session\n",
    "    : feature_batch: Batch of Numpy image data\n",
    "    : label_batch: Batch of Numpy label data\n",
    "    : cost: TensorFlow cost function\n",
    "    : accuracy: TensorFlow accuracy function\n",
    "    \"\"\"\n",
    "    # TODO: Implement Function\n",
    "    feed_dict = {x:valid_features, y:valid_labels, keep_prob:1.0}\n",
    "    \n",
    "    current_loss = session.run(cost, feed_dict=feed_dict)\n",
    "    current_accuracy = session.run(accuracy, feed_dict=feed_dict)\n",
    "    \n",
    "    print(\"loss = {}, accuracy = {}\".format(current_loss, current_accuracy))"
   ]
  },
  {
   "cell_type": "markdown",
   "metadata": {},
   "source": [
    "### Hyperparameters\n",
    "Tune the following parameters:\n",
    "* Set `epochs` to the number of iterations until the network stops learning or start overfitting\n",
    "* Set `batch_size` to the highest number that your machine has memory for.  Most people set them to common sizes of memory:\n",
    " * 64\n",
    " * 128\n",
    " * 256\n",
    " * ...\n",
    "* Set `keep_probability` to the probability of keeping a node using dropout"
   ]
  },
  {
   "cell_type": "code",
   "execution_count": 15,
   "metadata": {},
   "outputs": [],
   "source": [
    "# TODO: Tune Parameters\n",
    "epochs = 20\n",
    "batch_size = 64\n",
    "keep_probability = 0.5"
   ]
  },
  {
   "cell_type": "markdown",
   "metadata": {},
   "source": [
    "### Train on a Single CIFAR-10 Batch\n",
    "Instead of training the neural network on all the CIFAR-10 batches of data, let's use a single batch. This should save time while you iterate on the model to get a better accuracy.  Once the final validation accuracy is 50% or greater, run the model on all the data in the next section."
   ]
  },
  {
   "cell_type": "code",
   "execution_count": 16,
   "metadata": {},
   "outputs": [
    {
     "name": "stdout",
     "output_type": "stream",
     "text": [
      "Checking the Training on a Single Batch...\n",
      "Epoch  1, CIFAR-10 Batch 1:  loss = 1.8831955194473267, accuracy = 0.30059999227523804\n",
      "Epoch  2, CIFAR-10 Batch 1:  loss = 1.702420949935913, accuracy = 0.3571999967098236\n",
      "Epoch  3, CIFAR-10 Batch 1:  loss = 1.5584497451782227, accuracy = 0.4318000078201294\n",
      "Epoch  4, CIFAR-10 Batch 1:  loss = 1.4610341787338257, accuracy = 0.4848000109195709\n",
      "Epoch  5, CIFAR-10 Batch 1:  loss = 1.3667241334915161, accuracy = 0.5058000087738037\n",
      "Epoch  6, CIFAR-10 Batch 1:  loss = 1.361502766609192, accuracy = 0.5072000026702881\n",
      "Epoch  7, CIFAR-10 Batch 1:  loss = 1.304761290550232, accuracy = 0.5306000113487244\n",
      "Epoch  8, CIFAR-10 Batch 1:  loss = 1.2968343496322632, accuracy = 0.5411999821662903\n",
      "Epoch  9, CIFAR-10 Batch 1:  loss = 1.2935329675674438, accuracy = 0.5609999895095825\n",
      "Epoch 10, CIFAR-10 Batch 1:  loss = 1.3130359649658203, accuracy = 0.5595999956130981\n",
      "Epoch 11, CIFAR-10 Batch 1:  loss = 1.300863265991211, accuracy = 0.5759999752044678\n",
      "Epoch 12, CIFAR-10 Batch 1:  loss = 1.2788867950439453, accuracy = 0.5626000165939331\n",
      "Epoch 13, CIFAR-10 Batch 1:  loss = 1.2688100337982178, accuracy = 0.5852000117301941\n",
      "Epoch 14, CIFAR-10 Batch 1:  loss = 1.3160148859024048, accuracy = 0.5763999819755554\n",
      "Epoch 15, CIFAR-10 Batch 1:  loss = 1.3206462860107422, accuracy = 0.5856000185012817\n",
      "Epoch 16, CIFAR-10 Batch 1:  loss = 1.385316014289856, accuracy = 0.5848000049591064\n",
      "Epoch 17, CIFAR-10 Batch 1:  loss = 1.4389413595199585, accuracy = 0.5831999778747559\n",
      "Epoch 18, CIFAR-10 Batch 1:  loss = 1.5011043548583984, accuracy = 0.5843999981880188\n",
      "Epoch 19, CIFAR-10 Batch 1:  loss = 1.4863721132278442, accuracy = 0.5898000001907349\n",
      "Epoch 20, CIFAR-10 Batch 1:  loss = 1.5303353071212769, accuracy = 0.5748000144958496\n"
     ]
    }
   ],
   "source": [
    "\"\"\"\n",
    "DON'T MODIFY ANYTHING IN THIS CELL\n",
    "\"\"\"\n",
    "print('Checking the Training on a Single Batch...')\n",
    "with tf.Session() as sess:\n",
    "    # Initializing the variables\n",
    "    sess.run(tf.global_variables_initializer())\n",
    "    \n",
    "    # Training cycle\n",
    "    for epoch in range(epochs):\n",
    "        batch_i = 1\n",
    "        for batch_features, batch_labels in helper.load_preprocess_training_batch(batch_i, batch_size):\n",
    "            train_neural_network(sess, optimizer, keep_probability, batch_features, batch_labels)\n",
    "        print('Epoch {:>2}, CIFAR-10 Batch {}:  '.format(epoch + 1, batch_i), end='')\n",
    "        print_stats(sess, batch_features, batch_labels, cost, accuracy)"
   ]
  },
  {
   "cell_type": "markdown",
   "metadata": {},
   "source": [
    "### Fully Train the Model\n",
    "Now that you got a good accuracy with a single CIFAR-10 batch, try it with all five batches."
   ]
  },
  {
   "cell_type": "code",
   "execution_count": 17,
   "metadata": {},
   "outputs": [
    {
     "name": "stdout",
     "output_type": "stream",
     "text": [
      "Training...\n",
      "Epoch  1, CIFAR-10 Batch 1:  loss = 1.8988908529281616, accuracy = 0.3179999887943268\n",
      "Epoch  1, CIFAR-10 Batch 2:  loss = 1.6760923862457275, accuracy = 0.3747999966144562\n",
      "Epoch  1, CIFAR-10 Batch 3:  loss = 1.5823488235473633, accuracy = 0.40860000252723694\n",
      "Epoch  1, CIFAR-10 Batch 4:  loss = 1.482453465461731, accuracy = 0.4575999975204468\n",
      "Epoch  1, CIFAR-10 Batch 5:  loss = 1.3858414888381958, accuracy = 0.5062000155448914\n",
      "Epoch  2, CIFAR-10 Batch 1:  loss = 1.4078073501586914, accuracy = 0.4952000081539154\n",
      "Epoch  2, CIFAR-10 Batch 2:  loss = 1.2673234939575195, accuracy = 0.5406000018119812\n",
      "Epoch  2, CIFAR-10 Batch 3:  loss = 1.2745296955108643, accuracy = 0.5443999767303467\n",
      "Epoch  2, CIFAR-10 Batch 4:  loss = 1.2249401807785034, accuracy = 0.5659999847412109\n",
      "Epoch  2, CIFAR-10 Batch 5:  loss = 1.2143573760986328, accuracy = 0.5685999989509583\n",
      "Epoch  3, CIFAR-10 Batch 1:  loss = 1.1772738695144653, accuracy = 0.579800009727478\n",
      "Epoch  3, CIFAR-10 Batch 2:  loss = 1.1158332824707031, accuracy = 0.6061999797821045\n",
      "Epoch  3, CIFAR-10 Batch 3:  loss = 1.1426684856414795, accuracy = 0.5870000123977661\n",
      "Epoch  3, CIFAR-10 Batch 4:  loss = 1.0900620222091675, accuracy = 0.6129999756813049\n",
      "Epoch  3, CIFAR-10 Batch 5:  loss = 1.0833220481872559, accuracy = 0.6215999722480774\n",
      "Epoch  4, CIFAR-10 Batch 1:  loss = 1.0921860933303833, accuracy = 0.6168000102043152\n",
      "Epoch  4, CIFAR-10 Batch 2:  loss = 1.044966697692871, accuracy = 0.6302000284194946\n",
      "Epoch  4, CIFAR-10 Batch 3:  loss = 1.0529589653015137, accuracy = 0.6266000270843506\n",
      "Epoch  4, CIFAR-10 Batch 4:  loss = 1.027971625328064, accuracy = 0.6370000243186951\n",
      "Epoch  4, CIFAR-10 Batch 5:  loss = 1.0002888441085815, accuracy = 0.6588000059127808\n",
      "Epoch  5, CIFAR-10 Batch 1:  loss = 1.0109912157058716, accuracy = 0.649399995803833\n",
      "Epoch  5, CIFAR-10 Batch 2:  loss = 0.9973860383033752, accuracy = 0.6600000262260437\n",
      "Epoch  5, CIFAR-10 Batch 3:  loss = 0.9830857515335083, accuracy = 0.6582000255584717\n",
      "Epoch  5, CIFAR-10 Batch 4:  loss = 0.9702621102333069, accuracy = 0.6611999869346619\n",
      "Epoch  5, CIFAR-10 Batch 5:  loss = 0.9460888504981995, accuracy = 0.6779999732971191\n",
      "Epoch  6, CIFAR-10 Batch 1:  loss = 0.9955996870994568, accuracy = 0.65420001745224\n",
      "Epoch  6, CIFAR-10 Batch 2:  loss = 0.977277934551239, accuracy = 0.6674000024795532\n",
      "Epoch  6, CIFAR-10 Batch 3:  loss = 0.9998875260353088, accuracy = 0.6535999774932861\n",
      "Epoch  6, CIFAR-10 Batch 4:  loss = 0.9416272640228271, accuracy = 0.6728000044822693\n",
      "Epoch  6, CIFAR-10 Batch 5:  loss = 0.9393028616905212, accuracy = 0.6722000241279602\n",
      "Epoch  7, CIFAR-10 Batch 1:  loss = 0.995450496673584, accuracy = 0.6650000214576721\n",
      "Epoch  7, CIFAR-10 Batch 2:  loss = 0.9184334874153137, accuracy = 0.6863999962806702\n",
      "Epoch  7, CIFAR-10 Batch 3:  loss = 0.9563705921173096, accuracy = 0.6808000206947327\n",
      "Epoch  7, CIFAR-10 Batch 4:  loss = 0.9477127194404602, accuracy = 0.6759999990463257\n",
      "Epoch  7, CIFAR-10 Batch 5:  loss = 0.9449355602264404, accuracy = 0.6845999956130981\n",
      "Epoch  8, CIFAR-10 Batch 1:  loss = 0.9435692429542542, accuracy = 0.6859999895095825\n",
      "Epoch  8, CIFAR-10 Batch 2:  loss = 0.9244513511657715, accuracy = 0.6872000098228455\n",
      "Epoch  8, CIFAR-10 Batch 3:  loss = 0.9649211168289185, accuracy = 0.6733999848365784\n",
      "Epoch  8, CIFAR-10 Batch 4:  loss = 0.9534465074539185, accuracy = 0.6747999787330627\n",
      "Epoch  8, CIFAR-10 Batch 5:  loss = 0.9104677438735962, accuracy = 0.6899999976158142\n",
      "Epoch  9, CIFAR-10 Batch 1:  loss = 0.9640585780143738, accuracy = 0.6805999875068665\n",
      "Epoch  9, CIFAR-10 Batch 2:  loss = 0.9187877774238586, accuracy = 0.6855999827384949\n",
      "Epoch  9, CIFAR-10 Batch 3:  loss = 0.9769560694694519, accuracy = 0.6632000207901001\n",
      "Epoch  9, CIFAR-10 Batch 4:  loss = 0.9366253018379211, accuracy = 0.682200014591217\n",
      "Epoch  9, CIFAR-10 Batch 5:  loss = 0.9128603339195251, accuracy = 0.6917999982833862\n",
      "Epoch 10, CIFAR-10 Batch 1:  loss = 0.9512212872505188, accuracy = 0.6940000057220459\n",
      "Epoch 10, CIFAR-10 Batch 2:  loss = 0.9120824933052063, accuracy = 0.7009999752044678\n",
      "Epoch 10, CIFAR-10 Batch 3:  loss = 0.9198314547538757, accuracy = 0.6937999725341797\n",
      "Epoch 10, CIFAR-10 Batch 4:  loss = 0.917458713054657, accuracy = 0.6970000267028809\n",
      "Epoch 10, CIFAR-10 Batch 5:  loss = 0.8934300541877747, accuracy = 0.704200029373169\n",
      "Epoch 11, CIFAR-10 Batch 1:  loss = 0.9272868037223816, accuracy = 0.6937999725341797\n",
      "Epoch 11, CIFAR-10 Batch 2:  loss = 0.9126275181770325, accuracy = 0.699400007724762\n",
      "Epoch 11, CIFAR-10 Batch 3:  loss = 0.9915356636047363, accuracy = 0.6844000220298767\n",
      "Epoch 11, CIFAR-10 Batch 4:  loss = 0.91310715675354, accuracy = 0.7024000287055969\n",
      "Epoch 11, CIFAR-10 Batch 5:  loss = 0.8958744406700134, accuracy = 0.7038000226020813\n",
      "Epoch 12, CIFAR-10 Batch 1:  loss = 0.9288784265518188, accuracy = 0.7013999819755554\n",
      "Epoch 12, CIFAR-10 Batch 2:  loss = 0.9211379885673523, accuracy = 0.7003999948501587\n",
      "Epoch 12, CIFAR-10 Batch 3:  loss = 0.9131511449813843, accuracy = 0.7008000016212463\n",
      "Epoch 12, CIFAR-10 Batch 4:  loss = 0.9094196557998657, accuracy = 0.6980000138282776\n",
      "Epoch 12, CIFAR-10 Batch 5:  loss = 0.884765625, accuracy = 0.7146000266075134\n",
      "Epoch 13, CIFAR-10 Batch 1:  loss = 0.9784371256828308, accuracy = 0.6881999969482422\n",
      "Epoch 13, CIFAR-10 Batch 2:  loss = 0.9373955130577087, accuracy = 0.6967999935150146\n",
      "Epoch 13, CIFAR-10 Batch 3:  loss = 0.9175450205802917, accuracy = 0.704800009727478\n",
      "Epoch 13, CIFAR-10 Batch 4:  loss = 0.9068967700004578, accuracy = 0.7013999819755554\n",
      "Epoch 13, CIFAR-10 Batch 5:  loss = 0.911899209022522, accuracy = 0.7071999907493591\n",
      "Epoch 14, CIFAR-10 Batch 1:  loss = 0.9932175874710083, accuracy = 0.6851999759674072\n",
      "Epoch 14, CIFAR-10 Batch 2:  loss = 0.9430652260780334, accuracy = 0.6962000131607056\n",
      "Epoch 14, CIFAR-10 Batch 3:  loss = 0.9320407509803772, accuracy = 0.7024000287055969\n",
      "Epoch 14, CIFAR-10 Batch 4:  loss = 0.9521377682685852, accuracy = 0.7024000287055969\n",
      "Epoch 14, CIFAR-10 Batch 5:  loss = 0.9344343543052673, accuracy = 0.7009999752044678\n",
      "Epoch 15, CIFAR-10 Batch 1:  loss = 0.9368959665298462, accuracy = 0.7052000164985657\n",
      "Epoch 15, CIFAR-10 Batch 2:  loss = 0.9394770264625549, accuracy = 0.7084000110626221\n",
      "Epoch 15, CIFAR-10 Batch 3:  loss = 0.9125566482543945, accuracy = 0.7110000252723694\n",
      "Epoch 15, CIFAR-10 Batch 4:  loss = 0.9172978401184082, accuracy = 0.7075999975204468\n",
      "Epoch 15, CIFAR-10 Batch 5:  loss = 0.960890531539917, accuracy = 0.7009999752044678\n",
      "Epoch 16, CIFAR-10 Batch 1:  loss = 0.9259949922561646, accuracy = 0.7110000252723694\n",
      "Epoch 16, CIFAR-10 Batch 2:  loss = 0.942589282989502, accuracy = 0.7075999975204468\n",
      "Epoch 16, CIFAR-10 Batch 3:  loss = 0.9322924017906189, accuracy = 0.7116000056266785\n",
      "Epoch 16, CIFAR-10 Batch 4:  loss = 0.9425986409187317, accuracy = 0.7089999914169312\n",
      "Epoch 16, CIFAR-10 Batch 5:  loss = 0.9701183438301086, accuracy = 0.6934000253677368\n",
      "Epoch 17, CIFAR-10 Batch 1:  loss = 0.9577783346176147, accuracy = 0.7020000219345093\n",
      "Epoch 17, CIFAR-10 Batch 2:  loss = 1.0007256269454956, accuracy = 0.6881999969482422\n",
      "Epoch 17, CIFAR-10 Batch 3:  loss = 0.9589437246322632, accuracy = 0.7031999826431274\n",
      "Epoch 17, CIFAR-10 Batch 4:  loss = 0.9829769730567932, accuracy = 0.701200008392334\n",
      "Epoch 17, CIFAR-10 Batch 5:  loss = 0.9651873111724854, accuracy = 0.7003999948501587\n",
      "Epoch 18, CIFAR-10 Batch 1:  loss = 0.981132984161377, accuracy = 0.7003999948501587\n",
      "Epoch 18, CIFAR-10 Batch 2:  loss = 0.9773358106613159, accuracy = 0.7013999819755554\n",
      "Epoch 18, CIFAR-10 Batch 3:  loss = 0.9535349607467651, accuracy = 0.7080000042915344\n",
      "Epoch 18, CIFAR-10 Batch 4:  loss = 0.9574208855628967, accuracy = 0.7116000056266785\n",
      "Epoch 18, CIFAR-10 Batch 5:  loss = 0.9697542190551758, accuracy = 0.6980000138282776\n",
      "Epoch 19, CIFAR-10 Batch 1:  loss = 0.9762699007987976, accuracy = 0.7017999887466431\n",
      "Epoch 19, CIFAR-10 Batch 2:  loss = 0.9794744253158569, accuracy = 0.7070000171661377\n",
      "Epoch 19, CIFAR-10 Batch 3:  loss = 1.0402404069900513, accuracy = 0.6901999711990356\n",
      "Epoch 19, CIFAR-10 Batch 4:  loss = 0.999800980091095, accuracy = 0.7044000029563904\n",
      "Epoch 19, CIFAR-10 Batch 5:  loss = 0.9671688675880432, accuracy = 0.7026000022888184\n"
     ]
    },
    {
     "name": "stdout",
     "output_type": "stream",
     "text": [
      "Epoch 20, CIFAR-10 Batch 1:  loss = 0.9945215582847595, accuracy = 0.7085999846458435\n",
      "Epoch 20, CIFAR-10 Batch 2:  loss = 1.000260591506958, accuracy = 0.7113999724388123\n",
      "Epoch 20, CIFAR-10 Batch 3:  loss = 1.0155413150787354, accuracy = 0.6958000063896179\n",
      "Epoch 20, CIFAR-10 Batch 4:  loss = 0.9752315282821655, accuracy = 0.7135999798774719\n",
      "Epoch 20, CIFAR-10 Batch 5:  loss = 0.9892376065254211, accuracy = 0.7120000123977661\n"
     ]
    }
   ],
   "source": [
    "\"\"\"\n",
    "DON'T MODIFY ANYTHING IN THIS CELL\n",
    "\"\"\"\n",
    "save_model_path = './image_classification'\n",
    "\n",
    "print('Training...')\n",
    "with tf.Session() as sess:\n",
    "    # Initializing the variables\n",
    "    sess.run(tf.global_variables_initializer())\n",
    "    \n",
    "    # Training cycle\n",
    "    for epoch in range(epochs):\n",
    "        # Loop over all batches\n",
    "        n_batches = 5\n",
    "        for batch_i in range(1, n_batches + 1):\n",
    "            for batch_features, batch_labels in helper.load_preprocess_training_batch(batch_i, batch_size):\n",
    "                train_neural_network(sess, optimizer, keep_probability, batch_features, batch_labels)\n",
    "            print('Epoch {:>2}, CIFAR-10 Batch {}:  '.format(epoch + 1, batch_i), end='')\n",
    "            print_stats(sess, batch_features, batch_labels, cost, accuracy)\n",
    "            \n",
    "    # Save Model\n",
    "    saver = tf.train.Saver()\n",
    "    save_path = saver.save(sess, save_model_path)"
   ]
  },
  {
   "cell_type": "markdown",
   "metadata": {},
   "source": [
    "# Checkpoint\n",
    "The model has been saved to disk.\n",
    "## Test Model\n",
    "Test your model against the test dataset.  This will be your final accuracy. You should have an accuracy greater than 50%. If you don't, keep tweaking the model architecture and parameters."
   ]
  },
  {
   "cell_type": "code",
   "execution_count": 18,
   "metadata": {},
   "outputs": [
    {
     "name": "stdout",
     "output_type": "stream",
     "text": [
      "INFO:tensorflow:Restoring parameters from ./image_classification\n",
      "Testing Accuracy: 0.7055135350318471\n",
      "\n"
     ]
    },
    {
     "data": {
      "image/png": "[encoded data removed]",
      "text/plain": [
       "<Figure size 432x288 with 8 Axes>"
      ]
     },
     "metadata": {
      "image/png": {
       "height": 319,
       "width": 355
      },
      "needs_background": "light"
     },
     "output_type": "display_data"
    }
   ],
   "source": [
    "\"\"\"\n",
    "DON'T MODIFY ANYTHING IN THIS CELL\n",
    "\"\"\"\n",
    "%matplotlib inline\n",
    "%config InlineBackend.figure_format = 'retina'\n",
    "\n",
    "import tensorflow as tf\n",
    "import pickle\n",
    "import helper\n",
    "import random\n",
    "\n",
    "# Set batch size if not already set\n",
    "try:\n",
    "    if batch_size:\n",
    "        pass\n",
    "except NameError:\n",
    "    batch_size = 64\n",
    "\n",
    "save_model_path = './image_classification'\n",
    "n_samples = 4\n",
    "top_n_predictions = 3\n",
    "\n",
    "def test_model():\n",
    "    \"\"\"\n",
    "    Test the saved model against the test dataset\n",
    "    \"\"\"\n",
    "\n",
    "    test_features, test_labels = pickle.load(open('preprocess_test.p', mode='rb'))\n",
    "    loaded_graph = tf.Graph()\n",
    "\n",
    "    with tf.Session(graph=loaded_graph) as sess:\n",
    "        # Load model\n",
    "        loader = tf.train.import_meta_graph(save_model_path + '.meta')\n",
    "        loader.restore(sess, save_model_path)\n",
    "\n",
    "        # Get Tensors from loaded model\n",
    "        loaded_x = loaded_graph.get_tensor_by_name('x:0')\n",
    "        loaded_y = loaded_graph.get_tensor_by_name('y:0')\n",
    "        loaded_keep_prob = loaded_graph.get_tensor_by_name('keep_prob:0')\n",
    "        loaded_logits = loaded_graph.get_tensor_by_name('logits:0')\n",
    "        loaded_acc = loaded_graph.get_tensor_by_name('accuracy:0')\n",
    "        \n",
    "        # Get accuracy in batches for memory limitations\n",
    "        test_batch_acc_total = 0\n",
    "        test_batch_count = 0\n",
    "        \n",
    "        for test_feature_batch, test_label_batch in helper.batch_features_labels(test_features, test_labels, batch_size):\n",
    "            test_batch_acc_total += sess.run(\n",
    "                loaded_acc,\n",
    "                feed_dict={loaded_x: test_feature_batch, loaded_y: test_label_batch, loaded_keep_prob: 1.0})\n",
    "            test_batch_count += 1\n",
    "\n",
    "        print('Testing Accuracy: {}\\n'.format(test_batch_acc_total/test_batch_count))\n",
    "\n",
    "        # Print Random Samples\n",
    "        random_test_features, random_test_labels = tuple(zip(*random.sample(list(zip(test_features, test_labels)), n_samples)))\n",
    "        random_test_predictions = sess.run(\n",
    "            tf.nn.top_k(tf.nn.softmax(loaded_logits), top_n_predictions),\n",
    "            feed_dict={loaded_x: random_test_features, loaded_y: random_test_labels, loaded_keep_prob: 1.0})\n",
    "        helper.display_image_predictions(random_test_features, random_test_labels, random_test_predictions)\n",
    "\n",
    "\n",
    "test_model()"
   ]
  },
  {
   "cell_type": "markdown",
   "metadata": {},
   "source": [
    "## Why 50-80% Accuracy?\n",
    "You might be wondering why you can't get an accuracy any higher. First things first, 50% isn't bad for a simple CNN.  Pure guessing would get you 10% accuracy. However, you might notice people are getting scores [well above 80%](http://rodrigob.github.io/are_we_there_yet/build/classification_datasets_results.html#43494641522d3130).  That's because we haven't taught you all there is to know about neural networks. We still need to cover a few more techniques."
   ]
  }
 ],
 "metadata": {
  "anaconda-cloud": {},
  "kernelspec": {
   "display_name": "Python 3",
   "language": "python",
   "name": "python3"
  },
  "language_info": {
   "codemirror_mode": {
    "name": "ipython",
    "version": 3
   },
   "file_extension": ".py",
   "mimetype": "text/x-python",
   "name": "python",
   "nbconvert_exporter": "python",
   "pygments_lexer": "ipython3",
   "version": "3.6.6"
  }
 },
 "nbformat": 4,
 "nbformat_minor": 1
}
